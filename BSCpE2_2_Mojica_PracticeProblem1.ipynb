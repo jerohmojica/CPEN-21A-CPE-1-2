{
  "nbformat": 4,
  "nbformat_minor": 0,
  "metadata": {
    "colab": {
      "provenance": [],
      "authorship_tag": "ABX9TyMrgwtSUD+zxw/3wrE1r920",
      "include_colab_link": true
    },
    "kernelspec": {
      "name": "python3",
      "display_name": "Python 3"
    },
    "language_info": {
      "name": "python"
    }
  },
  "cells": [
    {
      "cell_type": "markdown",
      "metadata": {
        "id": "view-in-github",
        "colab_type": "text"
      },
      "source": [
        "<a href=\"https://colab.research.google.com/github/jerohmojica/CPEN-21A-CPE-1-2/blob/main/BSCpE2_2_Mojica_PracticeProblem1.ipynb\" target=\"_parent\"><img src=\"https://colab.research.google.com/assets/colab-badge.svg\" alt=\"Open In Colab\"/></a>"
      ]
    },
    {
      "cell_type": "code",
      "source": [
        "class Circle:\n",
        "  def __init__(self, radius):\n",
        "    self.radius = radius\n",
        "\n",
        "  def Area(self):\n",
        "    Area = 3.14*(self.radius*self.radius)\n",
        "    print(Area,)\n",
        "\n",
        "  def confirm(self):\n",
        "    print(\"Radius(0) or Diameter(1): \")\n",
        "    opt = int(input())\n",
        "    if opt == 0:\n",
        "        self.radius = self.radius/2\n",
        "        x.Area()\n",
        "\n",
        "    elif opt == 1:\n",
        "        self.radius = self.radius\n",
        "        x.Area()\n",
        "\n",
        "    else:\n",
        "        print(\"Error input.\")\n",
        "\n",
        "x = Circle(int(input()))\n",
        "x.confirm()\n",
        "  "
      ],
      "metadata": {
        "colab": {
          "base_uri": "https://localhost:8080/"
        },
        "id": "5nDLlzuAPGoU",
        "outputId": "4eeed4ca-d8d1-4a73-d4d7-60b7a6fe8c1d"
      },
      "execution_count": 10,
      "outputs": [
        {
          "output_type": "stream",
          "name": "stdout",
          "text": [
            "32\n",
            "Radius(0) or Diameter(1): \n",
            "0\n",
            "803.84\n"
          ]
        }
      ]
    }
  ]
}